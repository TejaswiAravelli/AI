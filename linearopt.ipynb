{
  "nbformat": 4,
  "nbformat_minor": 0,
  "metadata": {
    "colab": {
      "name": "linearopt.ipynb",
      "provenance": [],
      "collapsed_sections": [],
      "authorship_tag": "ABX9TyMUWm9jXvxzJBW61NcdiM/u",
      "include_colab_link": true
    },
    "kernelspec": {
      "name": "python3",
      "display_name": "Python 3"
    },
    "language_info": {
      "name": "python"
    }
  },
  "cells": [
    {
      "cell_type": "markdown",
      "metadata": {
        "id": "view-in-github",
        "colab_type": "text"
      },
      "source": [
        "<a href=\"https://colab.research.google.com/github/TejaswiAravelli/AI/blob/main/linearopt.ipynb\" target=\"_parent\"><img src=\"https://colab.research.google.com/assets/colab-badge.svg\" alt=\"Open In Colab\"/></a>"
      ]
    },
    {
      "cell_type": "code",
      "metadata": {
        "colab": {
          "base_uri": "https://localhost:8080/"
        },
        "id": "Lxo-Q_btYxs9",
        "outputId": "14258c5e-5cf0-459b-d902-9899401caf88"
      },
      "source": [
        "from scipy.optimize import linprog\n",
        "obj=[-50,-120] \n",
        "A_ieq=[[7000,2000],[10,30]]\n",
        "b_ieq=[700000,1200,]\n",
        "bound=[(0,110),(0,110)]\n",
        "opt=linprog(c=obj,A_ub=A_ieq,b_ub=b_ieq,A_eq=None, b_eq=None,bounds=bound,method=\"simplex\")\n",
        "opt.x\n",
        "print('no. of hectares of land for wheat =',round(opt.x[0]))\n",
        "print('no. of hectares of land for barley =',round(opt.x[1]))\n"
      ],
      "execution_count": 1,
      "outputs": [
        {
          "output_type": "stream",
          "text": [
            "no. of hectares of land for wheat = 98\n",
            "no. of hectares of land for barley = 7\n"
          ],
          "name": "stdout"
        }
      ]
    }
  ]
}